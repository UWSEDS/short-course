{
 "cells": [
  {
   "cell_type": "code",
   "execution_count": null,
   "metadata": {
    "collapsed": true
   },
   "outputs": [],
   "source": [
    "import numpy as np "
   ]
  },
  {
   "cell_type": "markdown",
   "metadata": {},
   "source": [
    "# When Things Go Wrong:\n",
    "## Errors, Exceptions, and Debugging"
   ]
  },
  {
   "cell_type": "markdown",
   "metadata": {},
   "source": [
    "Today we'll cover perhaps one of the most important aspects of using Python: dealing with errors and bugs in code."
   ]
  },
  {
   "cell_type": "markdown",
   "metadata": {},
   "source": [
    "## Three Classes of Errors\n",
    "\n",
    "Types of bugs/errors in code, from the easiest to the most difficult to diagnose:\n",
    "\n",
    "1. **Syntax Errors:** Errors where the code is not valid Python (generally easy to fix)\n",
    "2. **Runtime Errors:** Errors where syntactically valid code fails to execute (sometimes easy to fix)\n",
    "3. **Semantic Errors:** Errors in logic (often very difficult to fix)"
   ]
  },
  {
   "cell_type": "markdown",
   "metadata": {},
   "source": [
    "### Syntax Errors\n",
    "\n",
    "Syntax errors are when you write code which is not valid Python.  For example:"
   ]
  },
  {
   "cell_type": "code",
   "execution_count": null,
   "metadata": {
    "collapsed": false
   },
   "outputs": [],
   "source": [
    "X = [1, 2, 3)"
   ]
  },
  {
   "cell_type": "code",
   "execution_count": null,
   "metadata": {
    "collapsed": false
   },
   "outputs": [],
   "source": [
    "y = 4x + 3"
   ]
  },
  {
   "cell_type": "markdown",
   "metadata": {},
   "source": [
    "Note that if your code contains even a *single* syntax error, none of it will run:"
   ]
  },
  {
   "cell_type": "code",
   "execution_count": null,
   "metadata": {
    "collapsed": false
   },
   "outputs": [],
   "source": [
    "a = 4\n",
    "something ==== is wrong"
   ]
  },
  {
   "cell_type": "code",
   "execution_count": null,
   "metadata": {
    "collapsed": false
   },
   "outputs": [],
   "source": [
    "print(a)"
   ]
  },
  {
   "cell_type": "markdown",
   "metadata": {},
   "source": [
    "Even though the syntax error appears below the (valid) variable definition, the valid code is not executed."
   ]
  },
  {
   "cell_type": "markdown",
   "metadata": {},
   "source": [
    "### Runtime Errors\n",
    "Runtime errors occur when the code is **valid python code**, but are errors within the context of the program execution.  For example:"
   ]
  },
  {
   "cell_type": "code",
   "execution_count": null,
   "metadata": {
    "collapsed": false
   },
   "outputs": [],
   "source": [
    "print(Q)"
   ]
  },
  {
   "cell_type": "code",
   "execution_count": null,
   "metadata": {
    "collapsed": false
   },
   "outputs": [],
   "source": [
    "x = 1 + 'abc'"
   ]
  },
  {
   "cell_type": "code",
   "execution_count": null,
   "metadata": {
    "collapsed": false
   },
   "outputs": [],
   "source": [
    "X = 1 / 0"
   ]
  },
  {
   "cell_type": "code",
   "execution_count": null,
   "metadata": {
    "collapsed": false
   },
   "outputs": [],
   "source": [
    "import numpy as np\n",
    "np.add(1, 2, 3, 4)"
   ]
  },
  {
   "cell_type": "code",
   "execution_count": null,
   "metadata": {
    "collapsed": false
   },
   "outputs": [],
   "source": [
    "x = [1, 2, 3]\n",
    "print(x[100])"
   ]
  },
  {
   "cell_type": "markdown",
   "metadata": {},
   "source": [
    "Unlike Syntax errors, RunTime errors occur **during code execution**, which means that valid code occuring before the runtime error *will* execute:"
   ]
  },
  {
   "cell_type": "code",
   "execution_count": null,
   "metadata": {
    "collapsed": false
   },
   "outputs": [],
   "source": [
    "spam = \"my all-time favorite\"\n",
    "eggs = 1 / 0"
   ]
  },
  {
   "cell_type": "code",
   "execution_count": null,
   "metadata": {
    "collapsed": false
   },
   "outputs": [],
   "source": [
    "print(spam)"
   ]
  },
  {
   "cell_type": "markdown",
   "metadata": {},
   "source": [
    "### Semantic Errors\n",
    "Semantic errors are perhaps the most insidious errors, and are by far the ones that will take most of your time.  Semantic errors occur when the code is **syntactically correct**, but produces the wrong result.\n",
    "\n",
    "By way of example, imagine you want to write a simple script to approximate the value of $\\pi$ according to the following formula:\n",
    "\n",
    "$$\n",
    "\\pi = \\sqrt{12} \\sum_{k = 0}^{\\infty} \\frac{(-3)^{-k}}{2k + 1}\n",
    "$$\n",
    "\n",
    "You might write a function something like this, using numpy's vectorized syntax:"
   ]
  },
  {
   "cell_type": "code",
   "execution_count": null,
   "metadata": {
    "collapsed": false
   },
   "outputs": [],
   "source": [
    "from math import sqrt\n",
    "\n",
    "def approx_pi(nterms=100):\n",
    "    kvals = np.arange(nterms)\n",
    "    return sqrt(12) * np.sum([-3.0 ** -k / (2 * k + 1) for k in kvals])"
   ]
  },
  {
   "cell_type": "markdown",
   "metadata": {},
   "source": [
    "Looks OK, yes?  Let's try it out:"
   ]
  },
  {
   "cell_type": "code",
   "execution_count": null,
   "metadata": {
    "collapsed": false
   },
   "outputs": [],
   "source": [
    "approx_pi(100)"
   ]
  },
  {
   "cell_type": "markdown",
   "metadata": {},
   "source": [
    "Huh. That doesn't look like $\\pi$.  Maybe we need more terms?"
   ]
  },
  {
   "cell_type": "code",
   "execution_count": null,
   "metadata": {
    "collapsed": false
   },
   "outputs": [],
   "source": [
    "approx_pi(1000)"
   ]
  },
  {
   "cell_type": "markdown",
   "metadata": {},
   "source": [
    "Nope... it looks like the algorithm simply gives the wrong result.  This is a classic example of a semantic error.\n",
    "\n",
    "**Question: can you spot the problem?**"
   ]
  },
  {
   "cell_type": "markdown",
   "metadata": {},
   "source": [
    "## Runtime Errors and Exception Handling\n",
    "Now we'll talk about how to handle RunTime errors (we skip Syntax Errors because they're pretty self-explanatory).\n",
    "\n",
    "Runtime errors can be handled through \"exception catching\" using ``try...except`` statements.  Here's a basic example:"
   ]
  },
  {
   "cell_type": "code",
   "execution_count": null,
   "metadata": {
    "collapsed": false
   },
   "outputs": [],
   "source": [
    "try:\n",
    "    print(\"this block gets executed first\")\n",
    "except:\n",
    "    print(\"this block gets executed if there's an error\")"
   ]
  },
  {
   "cell_type": "code",
   "execution_count": null,
   "metadata": {
    "collapsed": false
   },
   "outputs": [],
   "source": [
    "try:\n",
    "    print(\"this block gets executed first\")\n",
    "    x = 1 / 0  # ZeroDivisionError\n",
    "    print(\"we never get here\")\n",
    "except:\n",
    "    print(\"this block gets executed if there's an error\")"
   ]
  },
  {
   "cell_type": "markdown",
   "metadata": {},
   "source": [
    "Notice that the first block executes **up until the point** of the Runtime error.\n",
    "Once the error is hit, the ``except`` block is executed.\n",
    "\n",
    "One important note: the above clause catches **any and all** exceptions.  It is not\n",
    "generally a good idea to catch-all.  Better is to name the precise exception you expect:"
   ]
  },
  {
   "cell_type": "code",
   "execution_count": null,
   "metadata": {
    "collapsed": false
   },
   "outputs": [],
   "source": [
    "def safe_divide(a, b):\n",
    "    try:\n",
    "        return a / b\n",
    "    except:\n",
    "        print(\"oops, dividing by zero. Returning None.\")\n",
    "        return None\n",
    "    \n",
    "print(safe_divide(15, 3))\n",
    "print(safe_divide(1, 0))"
   ]
  },
  {
   "cell_type": "markdown",
   "metadata": {},
   "source": [
    "But there's a problem here: this is a **catch-all** exception, and will sometimes give us misleading information.  For example:"
   ]
  },
  {
   "cell_type": "code",
   "execution_count": null,
   "metadata": {
    "collapsed": false
   },
   "outputs": [],
   "source": [
    "safe_divide(15, 'three')"
   ]
  },
  {
   "cell_type": "markdown",
   "metadata": {},
   "source": [
    "Our program tells us we're dividing by zero, but we aren't!  This is one reason you should **almost never** use a catch-all ``try..except`` statement, but instead specify the errors you're trying to catch:"
   ]
  },
  {
   "cell_type": "code",
   "execution_count": null,
   "metadata": {
    "collapsed": false
   },
   "outputs": [],
   "source": [
    "def better_safe_divide(a, b):\n",
    "    try:\n",
    "        return a / b\n",
    "    except ZeroDivisionError:\n",
    "        print(\"oops, dividing by zero. Returning None.\")\n",
    "        return None\n",
    "    \n",
    "better_safe_divide(15, 0)"
   ]
  },
  {
   "cell_type": "code",
   "execution_count": null,
   "metadata": {
    "collapsed": false
   },
   "outputs": [],
   "source": [
    "better_safe_divide(15, 'three')"
   ]
  },
  {
   "cell_type": "markdown",
   "metadata": {},
   "source": [
    "This also allows you to specify different behaviors for different exceptions:"
   ]
  },
  {
   "cell_type": "code",
   "execution_count": null,
   "metadata": {
    "collapsed": false
   },
   "outputs": [],
   "source": [
    "def even_better_safe_divide(a, b):\n",
    "    try:\n",
    "        return a / b\n",
    "    except ZeroDivisionError:\n",
    "        print(\"oops, dividing by zero. Returning None.\")\n",
    "        return None\n",
    "    except TypeError:\n",
    "        print(\"incompatible types.  Returning None\")\n",
    "        return None\n",
    "    "
   ]
  },
  {
   "cell_type": "code",
   "execution_count": null,
   "metadata": {
    "collapsed": false
   },
   "outputs": [],
   "source": [
    "even_better_safe_divide(15, 3)"
   ]
  },
  {
   "cell_type": "code",
   "execution_count": null,
   "metadata": {
    "collapsed": false
   },
   "outputs": [],
   "source": [
    "even_better_safe_divide(15, 0)"
   ]
  },
  {
   "cell_type": "code",
   "execution_count": null,
   "metadata": {
    "collapsed": false
   },
   "outputs": [],
   "source": [
    "even_better_safe_divide(15, 'three')"
   ]
  },
  {
   "cell_type": "markdown",
   "metadata": {},
   "source": [
    "Remember this lesson, and **always specify your except statements!**  I once spent an entire day tracing down a bug in my code which amounted to this."
   ]
  },
  {
   "cell_type": "markdown",
   "metadata": {},
   "source": [
    "### Raising Your Own Exceptions\n",
    "\n",
    "When you write your own code, it's good practice to use the ``raise`` keyword to create your own exceptions\n",
    "when the situation calls for it:"
   ]
  },
  {
   "cell_type": "code",
   "execution_count": null,
   "metadata": {
    "collapsed": false
   },
   "outputs": [],
   "source": [
    "import os  # the \"os\" module has useful operating system stuff\n",
    "\n",
    "def read_file(filename):\n",
    "    if not os.path.exists(filename):\n",
    "        raise ValueError(\"'{0}' does not exist\".format(filename))\n",
    "    f = open(filename)\n",
    "    result = f.read()\n",
    "    f.close()\n",
    "    return result"
   ]
  },
  {
   "cell_type": "markdown",
   "metadata": {},
   "source": [
    "We'll use IPython's ``%%file`` magic to quickly create a text file"
   ]
  },
  {
   "cell_type": "code",
   "execution_count": null,
   "metadata": {
    "collapsed": false
   },
   "outputs": [],
   "source": [
    "%%file tmp.txt\n",
    "this is the contents of the file"
   ]
  },
  {
   "cell_type": "code",
   "execution_count": null,
   "metadata": {
    "collapsed": false
   },
   "outputs": [],
   "source": [
    "read_file('tmp.txt')"
   ]
  },
  {
   "cell_type": "code",
   "execution_count": null,
   "metadata": {
    "collapsed": false
   },
   "outputs": [],
   "source": [
    "read_file('file.which.does.not.exist')"
   ]
  },
  {
   "cell_type": "markdown",
   "metadata": {},
   "source": [
    "It is sometimes useful to define your own custom exceptions, which you can do easily via class inheritance:"
   ]
  },
  {
   "cell_type": "code",
   "execution_count": null,
   "metadata": {
    "collapsed": false
   },
   "outputs": [],
   "source": [
    "class NonExistentFile(RuntimeError):\n",
    "    # you can customize exception behavior by defining class methods.\n",
    "    # we won't discuss that here.\n",
    "    pass\n",
    "\n",
    "\n",
    "def read_file(filename):\n",
    "    if not os.path.exists(filename):\n",
    "        raise NonExistentFile(filename)\n",
    "    f = open(filename)\n",
    "    result = f.read()\n",
    "    f.close()\n",
    "    return result"
   ]
  },
  {
   "cell_type": "code",
   "execution_count": null,
   "metadata": {
    "collapsed": false
   },
   "outputs": [],
   "source": [
    "read_file('tmp.txt')"
   ]
  },
  {
   "cell_type": "code",
   "execution_count": null,
   "metadata": {
    "collapsed": false
   },
   "outputs": [],
   "source": [
    "read_file('file.which.does.not.exist')"
   ]
  },
  {
   "cell_type": "markdown",
   "metadata": {},
   "source": [
    "**Get used to throwing appropriate &mdash; and meaningful &mdash; exceptions in your code!** It makes reading and debugging your code much, much easier."
   ]
  },
  {
   "cell_type": "markdown",
   "metadata": {},
   "source": [
    "### More Advanced Exception Handling\n",
    "\n",
    "There is also the possibility of adding ``else`` and ``finally`` clauses to your try statements.\n",
    "You'll probably not need these often, but in case you encounter them some time, it's good to know what they do.\n",
    "\n",
    "The behavior looks like this:"
   ]
  },
  {
   "cell_type": "code",
   "execution_count": null,
   "metadata": {
    "collapsed": false
   },
   "outputs": [],
   "source": [
    "try:\n",
    "    print(\"doing something\")\n",
    "except:\n",
    "    print(\"this only happens if it fails\")\n",
    "else:\n",
    "    print(\"this only happens if it succeeds\")"
   ]
  },
  {
   "cell_type": "code",
   "execution_count": null,
   "metadata": {
    "collapsed": false
   },
   "outputs": [],
   "source": [
    "try:\n",
    "    print(\"doing something\")\n",
    "    raise ValueError()\n",
    "except:\n",
    "    print(\"this only happens if it fails\")\n",
    "else:\n",
    "    print(\"this only happens if it succeeds\")"
   ]
  },
  {
   "cell_type": "markdown",
   "metadata": {},
   "source": [
    "Why would you ever want to do this?\n",
    "Mainly, it prevents the code within the ``else`` block from being caught by the ``try`` block.\n",
    "Accidentally catching an exception you don't mean to catch can lead to confusing results."
   ]
  },
  {
   "cell_type": "markdown",
   "metadata": {},
   "source": [
    "The last statement you might use is the ``finally`` statement, which looks like this:"
   ]
  },
  {
   "cell_type": "code",
   "execution_count": null,
   "metadata": {
    "collapsed": false
   },
   "outputs": [],
   "source": [
    "try:\n",
    "    print(\"do something\")\n",
    "except:\n",
    "    print(\"this only happens if it fails\")\n",
    "else:\n",
    "    print(\"this only happens if it succeeds\")\n",
    "finally:\n",
    "    print(\"this happens no matter what.\")"
   ]
  },
  {
   "cell_type": "code",
   "execution_count": null,
   "metadata": {
    "collapsed": false
   },
   "outputs": [],
   "source": [
    "try:\n",
    "    print(\"do something\")\n",
    "    raise ValueError()\n",
    "except:\n",
    "    print(\"this only happens if it fails\")\n",
    "else:\n",
    "    print(\"this only happens if it succeeds\")\n",
    "finally:\n",
    "    print(\"this happens no matter what.\")"
   ]
  },
  {
   "cell_type": "markdown",
   "metadata": {},
   "source": [
    "``finally`` is generally used for some sort of cleanup (closing a file, etc.)  It might seem a bit redundant, though.  Why not write the following?"
   ]
  },
  {
   "cell_type": "code",
   "execution_count": null,
   "metadata": {
    "collapsed": false
   },
   "outputs": [],
   "source": [
    "try:\n",
    "    print(\"do something\")\n",
    "except:\n",
    "    print(\"this only happens if it fails\")\n",
    "else:\n",
    "    print(\"this only happens if it succeeds\")\n",
    "print(\"this happens no matter what.\")"
   ]
  },
  {
   "cell_type": "markdown",
   "metadata": {},
   "source": [
    "The main difference is when the clause is used within a function:"
   ]
  },
  {
   "cell_type": "code",
   "execution_count": null,
   "metadata": {
    "collapsed": false
   },
   "outputs": [],
   "source": [
    "def divide(x, y):\n",
    "    try:\n",
    "       result = x / y\n",
    "    except ZeroDivisionError:\n",
    "        print(\"division by zero!\")\n",
    "        return None\n",
    "    else:\n",
    "        print(\"result is\", result)\n",
    "        return result\n",
    "    finally:\n",
    "        print(\"some sort of cleanup\")"
   ]
  },
  {
   "cell_type": "code",
   "execution_count": null,
   "metadata": {
    "collapsed": false
   },
   "outputs": [],
   "source": [
    "divide(15, 3)"
   ]
  },
  {
   "cell_type": "code",
   "execution_count": null,
   "metadata": {
    "collapsed": false
   },
   "outputs": [],
   "source": [
    "divide(15, 0)"
   ]
  },
  {
   "cell_type": "markdown",
   "metadata": {},
   "source": [
    "Note that the finally clause is executed *no matter what*, even if the ``return`` statement has already executed!\n",
    "This makes it useful for cleanup tasks, such as closing an open file, restoring a state, or something along those lines."
   ]
  },
  {
   "cell_type": "markdown",
   "metadata": {},
   "source": [
    "## Handling Semantic Errors: Debugging\n",
    "\n",
    "Here is the most difficult piece of this lecture: handling semantic errors.  This is the situation where your program *runs*, but doesn't produce the correct result.  These errors are commonly known as **bugs**, and the process of correcting the bugs is **debugging**.\n",
    "\n",
    "There are three main methods commonly used for debugging Python code.  In order of increasing sophistication, they are:\n",
    "\n",
    "1. Inserting ``print`` statements\n",
    "2. Injecting an IPython interpreter\n",
    "3. Using a line-by-line debugger like ``pdb``"
   ]
  },
  {
   "cell_type": "markdown",
   "metadata": {},
   "source": [
    "### The easiest method: print statements\n",
    "\n",
    "Say we're trying to compute the **entropy** of a set of probabilities.  The\n",
    "form of the equation is\n",
    "$$\n",
    "H = -\\sum_i p_i \\log(p_i)\n",
    "$$\n",
    "We can write the function like this:"
   ]
  },
  {
   "cell_type": "code",
   "execution_count": null,
   "metadata": {
    "collapsed": false
   },
   "outputs": [],
   "source": [
    "def entropy(p):\n",
    "    p = np.asarray(p)  # convert p to array if necessary\n",
    "    items = p * np.log(p)\n",
    "    return -np.sum(items)"
   ]
  },
  {
   "cell_type": "markdown",
   "metadata": {},
   "source": [
    "Say these are our probabilities:"
   ]
  },
  {
   "cell_type": "code",
   "execution_count": null,
   "metadata": {
    "collapsed": false
   },
   "outputs": [],
   "source": [
    "p = np.arange(5.)\n",
    "p /= p.sum()"
   ]
  },
  {
   "cell_type": "code",
   "execution_count": null,
   "metadata": {
    "collapsed": false
   },
   "outputs": [],
   "source": [
    "entropy(p)"
   ]
  },
  {
   "cell_type": "markdown",
   "metadata": {},
   "source": [
    "We get ``nan``, which stands for \"Not a Number\".  What's going on here?\n",
    "\n",
    "Often the first thing to try is to simply print things and see what's going on.\n",
    "Within the file, you can add some print statements in key places:"
   ]
  },
  {
   "cell_type": "code",
   "execution_count": null,
   "metadata": {
    "collapsed": false
   },
   "outputs": [],
   "source": [
    "def entropy(p):\n",
    "    p = np.asarray(p)  # convert p to array if necessary\n",
    "    print(p)\n",
    "    items = p * np.log(p)\n",
    "    print(items)\n",
    "    return -np.sum(items)\n",
    "\n",
    "entropy(p)"
   ]
  },
  {
   "cell_type": "markdown",
   "metadata": {},
   "source": [
    "By printing some of the intermediate items, we see the problem: ``0 * np.log(0)`` is resulting in a ``NaN``.  Though mathematically it's true that $\\lim_{x\\to 0} [x\\log(x)] = 0$, the fact that we're performing the computation numerically means that we don't obtain this result.\n",
    "\n",
    "Often, inserting a few print statements can be enough to figure out what's going on."
   ]
  },
  {
   "cell_type": "markdown",
   "metadata": {},
   "source": [
    "### Embedding an IPython instance\n",
    "\n",
    "You can go a step further by actually embedding an IPython instance in your code.\n",
    "This doesn't work from within the notebook, so we'll create a file and run it from\n",
    "the command-line"
   ]
  },
  {
   "cell_type": "code",
   "execution_count": null,
   "metadata": {
    "collapsed": false
   },
   "outputs": [],
   "source": [
    "%%file test_script.py\n",
    "import numpy as np\n",
    "\n",
    "def entropy(p):\n",
    "    p = np.asarray(p)  # convert p to array if necessary\n",
    "    items = p * np.log(p)\n",
    "    import IPython; IPython.embed()\n",
    "    return -np.sum(items)\n",
    "\n",
    "p = np.arange(5.)\n",
    "p /= p.sum()\n",
    "entropy(p)"
   ]
  },
  {
   "cell_type": "markdown",
   "metadata": {},
   "source": [
    "Now open a terminal and run this.  You'll see that an IPython interpreter opens, and from there you can print ``p``, print ``items``, and do any manipulation you feel like doing.  This can also be a nice way to debug a script."
   ]
  },
  {
   "cell_type": "markdown",
   "metadata": {},
   "source": [
    "###Using a Debugger\n",
    "\n",
    "Python comes with a built-in debugger called [pdb](http://docs.python.org/2/library/pdb.html).  It allows you to step line-by-line through a computation and examine what's happening at each step.  Note that this should probably be your last resort in tracing down a bug.  I've probably used it a dozen times or so in five years of coding.  But it can be a useful tool to have in your toolbelt.\n",
    "\n",
    "You can use the debugger by inserting the line\n",
    "``` python\n",
    "import pdb; pdb.set_trace()\n",
    "```\n",
    "within your script. Let's try this out:"
   ]
  },
  {
   "cell_type": "code",
   "execution_count": null,
   "metadata": {
    "collapsed": false
   },
   "outputs": [],
   "source": [
    "def entropy(p):\n",
    "    import pdb; pdb.set_trace()\n",
    "    p = np.asarray(p)  # convert p to array if necessary\n",
    "    items = p * np.log(p)\n",
    "    return -np.sum(items)\n",
    "\n",
    "entropy(p)"
   ]
  },
  {
   "cell_type": "markdown",
   "metadata": {},
   "source": [
    "This can be a more convenient way to debug programs and step through the actual execution."
   ]
  },
  {
   "cell_type": "markdown",
   "metadata": {},
   "source": [
    "When you run this, you'll see the pdb prompt where you can enter one of several commands.  If you type ``h`` for \"help\", it will list the possible commands:\n",
    "\n",
    "```\n",
    "(Pdb) h\n",
    "Documented commands (type help <topic>):\n",
    "========================================\n",
    "EOF    bt         cont      enable  jump  pp       run      unt   \n",
    "a      c          continue  exit    l     q        s        until \n",
    "alias  cl         d         h       list  quit     step     up    \n",
    "args   clear      debug     help    n     r        tbreak   w     \n",
    "b      commands   disable   ignore  next  restart  u        whatis\n",
    "break  condition  down      j       p     return   unalias  where \n",
    "\n",
    "Miscellaneous help topics:\n",
    "==========================\n",
    "exec  pdb\n",
    "\n",
    "Undocumented commands:\n",
    "======================\n",
    "retval  rv\n",
    "```\n",
    "\n",
    "Type ``h`` collowed by a command to see the documentation of that command:\n",
    "\n",
    "```\n",
    "(Pdb) h n\n",
    "n(ext)\n",
    "Continue execution until the next line in the current function\n",
    "is reached or it returns.\n",
    "```\n",
    "\n",
    "The most useful are probably the following:\n",
    "\n",
    "- ``q``(uit): quit the debugger and the program.\n",
    "- ``c``(ontinute): quit the debugger, continue in the program.\n",
    "- ``n``(ext): go to the next step of the program.\n",
    "- ``list``: show the current location in the file.\n",
    "- ``<enter>``: repeat the previous command.\n",
    "- ``p``(rint): print variables.\n",
    "- ``s``(tep into): step into a subroutine.\n",
    "- ``r``(eturn out): return out of a subroutine.\n",
    "- Arbitrary Python code: writing Python code at the (Pdb) will execute it at that point in the program.\n",
    "\n",
    "We'll see more of this in the next section."
   ]
  },
  {
   "cell_type": "markdown",
   "metadata": {},
   "source": [
    "### IPython Debugging\n",
    "\n",
    "IPython also has some magic commands that allow you to debug scripts withing the notebook as soon as you see a failure. For example, imagine we have the following file:"
   ]
  },
  {
   "cell_type": "code",
   "execution_count": null,
   "metadata": {
    "collapsed": false
   },
   "outputs": [],
   "source": [
    "%%file numbers.dat\n",
    "123 456 789"
   ]
  },
  {
   "cell_type": "markdown",
   "metadata": {},
   "source": [
    "And we want to execute the following function:"
   ]
  },
  {
   "cell_type": "code",
   "execution_count": null,
   "metadata": {
    "collapsed": false
   },
   "outputs": [],
   "source": [
    "def add_lines(filename):\n",
    "    f = open(filename)\n",
    "    lines = f.read().split()\n",
    "    f.close()\n",
    "    result = 0\n",
    "    for line in lines:\n",
    "        result += line\n",
    "    return result\n",
    "\n",
    "filename = 'numbers.dat'\n",
    "total = add_lines(filename)\n",
    "print(total)"
   ]
  },
  {
   "cell_type": "markdown",
   "metadata": {},
   "source": [
    "We get a type error. We can immediately open the debugger using IPython's ``%debug`` magic function. Remember to type ``q`` to quit!"
   ]
  },
  {
   "cell_type": "code",
   "execution_count": null,
   "metadata": {
    "collapsed": false
   },
   "outputs": [],
   "source": [
    "%debug"
   ]
  },
  {
   "cell_type": "markdown",
   "metadata": {},
   "source": [
    "We see that we need to convert the line to an integer before adding!"
   ]
  }
 ],
 "metadata": {
  "kernelspec": {
   "display_name": "Python 2",
   "language": "python",
   "name": "python2"
  },
  "language_info": {
   "codemirror_mode": {
    "name": "ipython",
    "version": 2
   },
   "file_extension": ".py",
   "mimetype": "text/x-python",
   "name": "python",
   "nbconvert_exporter": "python",
   "pygments_lexer": "ipython2",
   "version": "2.7.12"
  }
 },
 "nbformat": 4,
 "nbformat_minor": 0
}
